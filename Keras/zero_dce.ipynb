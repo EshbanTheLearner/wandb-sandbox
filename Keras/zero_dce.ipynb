{
 "cells": [
  {
   "cell_type": "code",
   "execution_count": null,
   "metadata": {},
   "outputs": [],
   "source": [
    "import os\n",
    "import random\n",
    "import numpy as np\n",
    "from glob import glob\n",
    "from PIL import Image, ImageOps\n",
    "import matplotlib.pyplot as plt\n",
    "\n",
    "import tensorflow as tf\n",
    "from tensorflow import keras\n",
    "from tensorflow.keras import layers\n",
    "\n",
    "import wandb; wandb.login()\n",
    "from wandb.keras import WandbCallback"
   ]
  },
  {
   "cell_type": "code",
   "execution_count": null,
   "metadata": {},
   "outputs": [],
   "source": [
    "run = wandb.init()\n",
    "artifact = run.use_artifact('ivangoncharov/Low Light Enhancement with Zero-DCE/Lol_Dataset:v0', type='dataset')\n",
    "artifact_dir = artifact.download()\n",
    "artifact_path = os.path.join(artifact_dir, \"lol_dataset.zip\")"
   ]
  },
  {
   "cell_type": "code",
   "execution_count": null,
   "metadata": {},
   "outputs": [],
   "source": [
    "!unzip $artifact_path"
   ]
  },
  {
   "cell_type": "code",
   "execution_count": null,
   "metadata": {},
   "outputs": [],
   "source": [
    "IMAGE_SIZE = 256\n",
    "BATCH_SIZE = 16\n",
    "MAX_TRAIN_IMAGES = 400\n"
   ]
  },
  {
   "cell_type": "code",
   "execution_count": null,
   "metadata": {},
   "outputs": [],
   "source": [
    "def load_data(image_path):\n",
    "    image = tf.io.read_file(image_path)\n",
    "    image = tf.image.decode_png(image, channels=3)\n",
    "    image = tf.image.resize(images=image, size=[IMAGE_SIZE, IMAGE_SIZE])\n",
    "    image = image / 255.0\n",
    "    return image"
   ]
  },
  {
   "cell_type": "code",
   "execution_count": null,
   "metadata": {},
   "outputs": [],
   "source": [
    "def data_generator(low_light_images):\n",
    "    dataset = tf.data.Dataset.from_tensor_slices((low_light_images))\n",
    "    dataset = dataset.map(load_data, num_parallel_calls=tf.data.AUTOTUNE)\n",
    "    dataset = dataset.batch(BATCH_SIZE, drop_remainder=True)\n",
    "    return dataset"
   ]
  },
  {
   "cell_type": "code",
   "execution_count": null,
   "metadata": {},
   "outputs": [],
   "source": [
    "train_low_light_images = sorted(glob(\"./lol_dataset/our485/low/*\"))[:MAX_TRAIN_IMAGES]\n",
    "val_low_light_images = sorted(glob(\"./lol_dataset/our485/low/*\"))[MAX_TRAIN_IMAGES:]\n",
    "test_low_light_images = sorted(glob(\"./lol_dataset/eval15/low/*\"))"
   ]
  },
  {
   "cell_type": "code",
   "execution_count": null,
   "metadata": {},
   "outputs": [],
   "source": [
    "train_dataset = data_generator(train_low_light_images)\n",
    "val_dataset = data_generator(val_low_light_images)"
   ]
  },
  {
   "cell_type": "code",
   "execution_count": null,
   "metadata": {},
   "outputs": [],
   "source": [
    "print(\"Train Dataset:\", train_dataset)\n",
    "print(\"Validation Dataset:\", val_dataset)"
   ]
  },
  {
   "cell_type": "code",
   "execution_count": null,
   "metadata": {},
   "outputs": [],
   "source": [
    "wandb.init(project=\"low_light_zero_DCE\", job_type=\"EDA\")\n",
    "\n",
    "table = wandb.Table(columns=[\"Low light\", \"High light\"])\n",
    "\n",
    "for img_path in train_low_light_images[:100]:\n",
    "  lowlight_image = Image.open(img_path)\n",
    "  highlight_image = Image.open(img_path.replace(\"low\", \"high\"))\n",
    "  table.add_data(\n",
    "        wandb.Image(np.array(lowlight_image)),\n",
    "        wandb.Image(np.array(highlight_image)),\n",
    "    )\n",
    "\n",
    "\n",
    "wandb.log({\"Dataset table\": table})\n",
    "\n",
    "wandb.finish()"
   ]
  },
  {
   "cell_type": "code",
   "execution_count": null,
   "metadata": {},
   "outputs": [],
   "source": [
    "def build_dce_net():\n",
    "    input_img = keras.Input(shape=[None, None, 3])\n",
    "    conv1 = layers.Conv2D(\n",
    "        32, (3, 3), strides=(1, 1), activation=\"relu\", padding=\"same\"\n",
    "    )(input_img)\n",
    "    conv2 = layers.Conv2D(\n",
    "        32, (3, 3), strides=(1, 1), activation=\"relu\", padding=\"same\"\n",
    "    )(conv1)\n",
    "    conv3 = layers.Conv2D(\n",
    "        32, (3, 3), strides=(1, 1), activation=\"relu\", padding=\"same\"\n",
    "    )(conv2)\n",
    "    conv4 = layers.Conv2D(\n",
    "        32, (3, 3), strides=(1, 1), activation=\"relu\", padding=\"same\"\n",
    "    )(conv3)\n",
    "    int_con1 = layers.Concatenate(axis=-1)([conv4, conv3])\n",
    "    conv5 = layers.Conv2D(\n",
    "        32, (3, 3), strides=(1, 1), activation=\"relu\", padding=\"same\"\n",
    "    )(int_con1)\n",
    "    int_con2 = layers.Concatenate(axis=-1)([conv5, conv2])\n",
    "    conv6 = layers.Conv2D(\n",
    "        32, (3, 3), strides=(1, 1), activation=\"relu\", padding=\"same\"\n",
    "    )(int_con2)\n",
    "    int_con3 = layers.Concatenate(axis=-1)([conv6, conv1])\n",
    "    x_r = layers.Conv2D(24, (3, 3), strides=(1, 1), activation=\"tanh\", padding=\"same\")(\n",
    "        int_con3\n",
    "    )\n",
    "    return keras.Model(inputs=input_img, outputs=x_r)"
   ]
  },
  {
   "cell_type": "code",
   "execution_count": null,
   "metadata": {},
   "outputs": [],
   "source": [
    "def color_constancy_loss(x):\n",
    "    mean_rgb = tf.reduce_mean(x, axis=(1, 2), keepdims=True)\n",
    "    mr, mg, mb = mean_rgb[:, :, :, 0], mean_rgb[:, :, :, 1], mean_rgb[:, :, :, 2]\n",
    "    d_rg = tf.square(mr - mg)\n",
    "    d_rb = tf.square(mr - mb)\n",
    "    d_gb = tf.square(mb - mg)\n",
    "    return tf.sqrt(tf.square(d_rg) + tf.square(d_rb) + tf.square(d_gb))"
   ]
  },
  {
   "cell_type": "code",
   "execution_count": null,
   "metadata": {},
   "outputs": [],
   "source": [
    "def exposure_loss(x, mean_val=0.6):\n",
    "    x = tf.reduce_mean(x, axis=3, keepdims=True)\n",
    "    mean = tf.nn.avg_pool2d(x, ksize=16, strides=16, padding=\"VALID\")\n",
    "    return tf.reduce_mean(tf.square(mean - mean_val))"
   ]
  },
  {
   "cell_type": "code",
   "execution_count": null,
   "metadata": {},
   "outputs": [],
   "source": [
    "def illumination_smoothness_loss(x):\n",
    "    batch_size = tf.shape(x)[0]\n",
    "    h_x = tf.shape(x)[1]\n",
    "    w_x = tf.shape(x)[2]\n",
    "    count_h = (tf.shape(x)[2] - 1) * tf.shape(x)[3]\n",
    "    count_w = tf.shape(x)[2] * (tf.shape(x)[3] - 1)\n",
    "    h_tv = tf.reduce_sum(tf.square((x[:, 1:, :, :] - x[:, : h_x - 1, :, :])))\n",
    "    w_tv = tf.reduce_sum(tf.square((x[:, :, 1:, :] - x[:, :, : w_x - 1, :])))\n",
    "    batch_size = tf.cast(batch_size, dtype=tf.float32)\n",
    "    count_h = tf.cast(count_h, dtype=tf.float32)\n",
    "    count_w = tf.cast(count_w, dtype=tf.float32)\n",
    "    return 2 * (h_tv / count_h + w_tv / count_w) / batch_size"
   ]
  },
  {
   "cell_type": "code",
   "execution_count": null,
   "metadata": {},
   "outputs": [],
   "source": [
    "class SpatialConsistencyLoss(keras.losses.Loss):\n",
    "    def __init__(self, **kwargs):\n",
    "        super(SpatialConsistencyLoss, self).__init__(reduction=\"none\")\n",
    "\n",
    "        self.left_kernel = tf.constant(\n",
    "            [[[[0, 0, 0]], [[-1, 1, 0]], [[0, 0, 0]]]], dtype=tf.float32\n",
    "        )\n",
    "        self.right_kernel = tf.constant(\n",
    "            [[[[0, 0, 0]], [[0, 1, -1]], [[0, 0, 0]]]], dtype=tf.float32\n",
    "        )\n",
    "        self.up_kernel = tf.constant(\n",
    "            [[[[0, -1, 0]], [[0, 1, 0]], [[0, 0, 0]]]], dtype=tf.float32\n",
    "        )\n",
    "        self.down_kernel = tf.constant(\n",
    "            [[[[0, 0, 0]], [[0, 1, 0]], [[0, -1, 0]]]], dtype=tf.float32\n",
    "        )\n",
    "\n",
    "    def call(self, y_true, y_pred):\n",
    "\n",
    "        original_mean = tf.reduce_mean(y_true, 3, keepdims=True)\n",
    "        enhanced_mean = tf.reduce_mean(y_pred, 3, keepdims=True)\n",
    "        original_pool = tf.nn.avg_pool2d(\n",
    "            original_mean, ksize=4, strides=4, padding=\"VALID\"\n",
    "        )\n",
    "        enhanced_pool = tf.nn.avg_pool2d(\n",
    "            enhanced_mean, ksize=4, strides=4, padding=\"VALID\"\n",
    "        )\n",
    "\n",
    "        d_original_left = tf.nn.conv2d(\n",
    "            original_pool, self.left_kernel, strides=[1, 1, 1, 1], padding=\"SAME\"\n",
    "        )\n",
    "        d_original_right = tf.nn.conv2d(\n",
    "            original_pool, self.right_kernel, strides=[1, 1, 1, 1], padding=\"SAME\"\n",
    "        )\n",
    "        d_original_up = tf.nn.conv2d(\n",
    "            original_pool, self.up_kernel, strides=[1, 1, 1, 1], padding=\"SAME\"\n",
    "        )\n",
    "        d_original_down = tf.nn.conv2d(\n",
    "            original_pool, self.down_kernel, strides=[1, 1, 1, 1], padding=\"SAME\"\n",
    "        )\n",
    "\n",
    "        d_enhanced_left = tf.nn.conv2d(\n",
    "            enhanced_pool, self.left_kernel, strides=[1, 1, 1, 1], padding=\"SAME\"\n",
    "        )\n",
    "        d_enhanced_right = tf.nn.conv2d(\n",
    "            enhanced_pool, self.right_kernel, strides=[1, 1, 1, 1], padding=\"SAME\"\n",
    "        )\n",
    "        d_enhanced_up = tf.nn.conv2d(\n",
    "            enhanced_pool, self.up_kernel, strides=[1, 1, 1, 1], padding=\"SAME\"\n",
    "        )\n",
    "        d_enhanced_down = tf.nn.conv2d(\n",
    "            enhanced_pool, self.down_kernel, strides=[1, 1, 1, 1], padding=\"SAME\"\n",
    "        )\n",
    "\n",
    "        d_left = tf.square(d_original_left - d_enhanced_left)\n",
    "        d_right = tf.square(d_original_right - d_enhanced_right)\n",
    "        d_up = tf.square(d_original_up - d_enhanced_up)\n",
    "        d_down = tf.square(d_original_down - d_enhanced_down)\n",
    "        return d_left + d_right + d_up + d_down"
   ]
  },
  {
   "cell_type": "code",
   "execution_count": null,
   "metadata": {},
   "outputs": [],
   "source": [
    "class ZeroDCE(keras.Model):\n",
    "    def __init__(self, **kwargs):\n",
    "        super(ZeroDCE, self).__init__(**kwargs)\n",
    "        self.dce_model = build_dce_net()\n",
    "\n",
    "    def compile(self, learning_rate, **kwargs):\n",
    "        super(ZeroDCE, self).compile(**kwargs)\n",
    "        self.optimizer = keras.optimizers.Adam(learning_rate=learning_rate)\n",
    "        self.spatial_constancy_loss = SpatialConsistencyLoss(reduction=\"none\")\n",
    "\n",
    "    def get_enhanced_image(self, data, output):\n",
    "        r1 = output[:, :, :, :3]\n",
    "        r2 = output[:, :, :, 3:6]\n",
    "        r3 = output[:, :, :, 6:9]\n",
    "        r4 = output[:, :, :, 9:12]\n",
    "        r5 = output[:, :, :, 12:15]\n",
    "        r6 = output[:, :, :, 15:18]\n",
    "        r7 = output[:, :, :, 18:21]\n",
    "        r8 = output[:, :, :, 21:24]\n",
    "        x = data + r1 * (tf.square(data) - data)\n",
    "        x = x + r2 * (tf.square(x) - x)\n",
    "        x = x + r3 * (tf.square(x) - x)\n",
    "        enhanced_image = x + r4 * (tf.square(x) - x)\n",
    "        x = enhanced_image + r5 * (tf.square(enhanced_image) - enhanced_image)\n",
    "        x = x + r6 * (tf.square(x) - x)\n",
    "        x = x + r7 * (tf.square(x) - x)\n",
    "        enhanced_image = x + r8 * (tf.square(x) - x)\n",
    "        return enhanced_image\n",
    "\n",
    "    def call(self, data):\n",
    "        dce_net_output = self.dce_model(data)\n",
    "        return self.get_enhanced_image(data, dce_net_output)\n",
    "\n",
    "    def compute_losses(self, data, output):\n",
    "        enhanced_image = self.get_enhanced_image(data, output)\n",
    "        loss_illumination = 200 * illumination_smoothness_loss(output)\n",
    "        loss_spatial_constancy = tf.reduce_mean(\n",
    "            self.spatial_constancy_loss(enhanced_image, data)\n",
    "        )\n",
    "        loss_color_constancy = 5 * tf.reduce_mean(color_constancy_loss(enhanced_image))\n",
    "        loss_exposure = 10 * tf.reduce_mean(exposure_loss(enhanced_image))\n",
    "        total_loss = (\n",
    "            loss_illumination\n",
    "            + loss_spatial_constancy\n",
    "            + loss_color_constancy\n",
    "            + loss_exposure\n",
    "        )\n",
    "        return {\n",
    "            \"total_loss\": total_loss,\n",
    "            \"illumination_smoothness_loss\": loss_illumination,\n",
    "            \"spatial_constancy_loss\": loss_spatial_constancy,\n",
    "            \"color_constancy_loss\": loss_color_constancy,\n",
    "            \"exposure_loss\": loss_exposure,\n",
    "        }\n",
    "\n",
    "    def train_step(self, data):\n",
    "        with tf.GradientTape() as tape:\n",
    "            output = self.dce_model(data)\n",
    "            losses = self.compute_losses(data, output)\n",
    "        gradients = tape.gradient(\n",
    "            losses[\"total_loss\"], self.dce_model.trainable_weights\n",
    "        )\n",
    "        self.optimizer.apply_gradients(zip(gradients, self.dce_model.trainable_weights))\n",
    "        return losses\n",
    "\n",
    "    def test_step(self, data):\n",
    "        output = self.dce_model(data)\n",
    "        return self.compute_losses(data, output)\n",
    "\n",
    "    def save_weights(self, filepath, overwrite=True, save_format=None, options=None):\n",
    "        \"\"\"While saving the weights, we simply save the weights of the DCE-Net\"\"\"\n",
    "        self.dce_model.save_weights(\n",
    "            filepath, overwrite=overwrite, save_format=save_format, options=options\n",
    "        )\n",
    "\n",
    "    def load_weights(self, filepath, by_name=False, skip_mismatch=False, options=None):\n",
    "        \"\"\"While loading the weights, we simply load the weights of the DCE-Net\"\"\"\n",
    "        self.dce_model.load_weights(\n",
    "            filepath=filepath,\n",
    "            by_name=by_name,\n",
    "            skip_mismatch=skip_mismatch,\n",
    "            options=options,\n",
    "        )"
   ]
  },
  {
   "cell_type": "code",
   "execution_count": null,
   "metadata": {},
   "outputs": [],
   "source": [
    "wandb.init(project=\"low_light_zero_DCE\", job_type=\"training\")"
   ]
  },
  {
   "cell_type": "code",
   "execution_count": null,
   "metadata": {},
   "outputs": [],
   "source": [
    "wandb.config.learning_rate = 1e-4 "
   ]
  },
  {
   "cell_type": "code",
   "execution_count": null,
   "metadata": {},
   "outputs": [],
   "source": [
    "zero_dce_model = ZeroDCE()\n",
    "zero_dce_model.compile(learning_rate=wandb.config.learning_rate) \n",
    "history = zero_dce_model.fit(train_dataset, validation_data=val_dataset, epochs=50, callbacks=[WandbCallback()])"
   ]
  },
  {
   "cell_type": "code",
   "execution_count": null,
   "metadata": {},
   "outputs": [],
   "source": [
    "def plot_result(item):\n",
    "    plt.plot(history.history[item], label=item)\n",
    "    plt.plot(history.history[\"val_\" + item], label=\"val_\" + item)\n",
    "    plt.xlabel(\"Epochs\")\n",
    "    plt.ylabel(item)\n",
    "    plt.title(\"Train and Validation {} Over Epochs\".format(item), fontsize=14)\n",
    "    plt.legend()\n",
    "    plt.grid()\n",
    "    plt.show()\n"
   ]
  },
  {
   "cell_type": "code",
   "execution_count": null,
   "metadata": {},
   "outputs": [],
   "source": [
    "plot_result(\"total_loss\")\n",
    "plot_result(\"illumination_smoothness_loss\")\n",
    "plot_result(\"spatial_constancy_loss\")\n",
    "plot_result(\"color_constancy_loss\")\n",
    "plot_result(\"exposure_loss\")"
   ]
  },
  {
   "cell_type": "code",
   "execution_count": null,
   "metadata": {},
   "outputs": [],
   "source": []
  },
  {
   "cell_type": "code",
   "execution_count": null,
   "metadata": {},
   "outputs": [],
   "source": []
  }
 ],
 "metadata": {
  "kernelspec": {
   "display_name": "global_env",
   "language": "python",
   "name": "python3"
  },
  "language_info": {
   "name": "python",
   "version": "3.6.9"
  },
  "orig_nbformat": 4,
  "vscode": {
   "interpreter": {
    "hash": "6a91feb76d2cfba618382ccdc2b85d611235fabcd242fa6c0b552577aa957b87"
   }
  }
 },
 "nbformat": 4,
 "nbformat_minor": 2
}
